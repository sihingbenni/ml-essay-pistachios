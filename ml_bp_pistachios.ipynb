{
 "cells": [
  {
   "metadata": {},
   "cell_type": "markdown",
   "source": "# Klassifikation von Pistazien\n",
   "id": "8a77807f92f26ee"
  },
  {
   "metadata": {},
   "cell_type": "markdown",
   "source": "## Installations skript",
   "id": "fe5b79cd24bc47c1"
  },
  {
   "metadata": {
    "ExecuteTime": {
     "end_time": "2024-12-02T13:39:09.370537Z",
     "start_time": "2024-12-02T13:39:07.822111Z"
    }
   },
   "cell_type": "code",
   "source": [
    "import kagglehub\n",
    "\n",
    "# check if the data is already downloaded... if not, download it\n",
    "\n",
    "pistachio_dataset_path = kagglehub.dataset_download('muratkokludataset/pistachio-dataset', path='data')\n",
    "\n",
    "print(pistachio_dataset_path)"
   ],
   "id": "fbc121e30a2defb3",
   "outputs": [
    {
     "ename": "KaggleApiHTTPError",
     "evalue": "404 Client Error.\n\nResource not found at URL: https://www.kaggle.com/datasets/muratkokludataset/pistachio-dataset/versions/1\nPlease make sure you specified the correct resource identifiers.",
     "output_type": "error",
     "traceback": [
      "\u001B[1;31m---------------------------------------------------------------------------\u001B[0m",
      "\u001B[1;31mHTTPError\u001B[0m                                 Traceback (most recent call last)",
      "File \u001B[1;32m~\\miniconda3\\envs\\ml-essay-pistachios\\Lib\\site-packages\\kagglehub\\exceptions.py:58\u001B[0m, in \u001B[0;36mkaggle_api_raise_for_status\u001B[1;34m(response, resource_handle)\u001B[0m\n\u001B[0;32m     57\u001B[0m \u001B[38;5;28;01mtry\u001B[39;00m:\n\u001B[1;32m---> 58\u001B[0m     response\u001B[38;5;241m.\u001B[39mraise_for_status()\n\u001B[0;32m     59\u001B[0m \u001B[38;5;28;01mexcept\u001B[39;00m requests\u001B[38;5;241m.\u001B[39mHTTPError \u001B[38;5;28;01mas\u001B[39;00m e:\n",
      "File \u001B[1;32m~\\miniconda3\\envs\\ml-essay-pistachios\\Lib\\site-packages\\requests\\models.py:1024\u001B[0m, in \u001B[0;36mResponse.raise_for_status\u001B[1;34m(self)\u001B[0m\n\u001B[0;32m   1023\u001B[0m \u001B[38;5;28;01mif\u001B[39;00m http_error_msg:\n\u001B[1;32m-> 1024\u001B[0m     \u001B[38;5;28;01mraise\u001B[39;00m HTTPError(http_error_msg, response\u001B[38;5;241m=\u001B[39m\u001B[38;5;28mself\u001B[39m)\n",
      "\u001B[1;31mHTTPError\u001B[0m: 404 Client Error: Not Found for url: https://www.kaggle.com/api/v1/datasets/download/muratkokludataset/pistachio-dataset?dataset_version_number=1&file_name=data",
      "\nThe above exception was the direct cause of the following exception:\n",
      "\u001B[1;31mKaggleApiHTTPError\u001B[0m                        Traceback (most recent call last)",
      "Cell \u001B[1;32mIn[7], line 5\u001B[0m\n\u001B[0;32m      1\u001B[0m \u001B[38;5;28;01mimport\u001B[39;00m \u001B[38;5;21;01mkagglehub\u001B[39;00m\n\u001B[0;32m      3\u001B[0m \u001B[38;5;66;03m# check if the data is already downloaded... if not, download it\u001B[39;00m\n\u001B[1;32m----> 5\u001B[0m pistachio_dataset_path \u001B[38;5;241m=\u001B[39m kagglehub\u001B[38;5;241m.\u001B[39mdataset_download(\u001B[38;5;124m'\u001B[39m\u001B[38;5;124mmuratkokludataset/pistachio-dataset\u001B[39m\u001B[38;5;124m'\u001B[39m, path\u001B[38;5;241m=\u001B[39m\u001B[38;5;124m'\u001B[39m\u001B[38;5;124mdata\u001B[39m\u001B[38;5;124m'\u001B[39m)\n\u001B[0;32m      7\u001B[0m \u001B[38;5;28mprint\u001B[39m(pistachio_dataset_path)\n",
      "File \u001B[1;32m~\\miniconda3\\envs\\ml-essay-pistachios\\Lib\\site-packages\\kagglehub\\datasets.py:28\u001B[0m, in \u001B[0;36mdataset_download\u001B[1;34m(handle, path, force_download)\u001B[0m\n\u001B[0;32m     26\u001B[0m h \u001B[38;5;241m=\u001B[39m parse_dataset_handle(handle)\n\u001B[0;32m     27\u001B[0m logger\u001B[38;5;241m.\u001B[39minfo(\u001B[38;5;124mf\u001B[39m\u001B[38;5;124m\"\u001B[39m\u001B[38;5;124mDownloading Dataset: \u001B[39m\u001B[38;5;132;01m{\u001B[39;00mh\u001B[38;5;241m.\u001B[39mto_url()\u001B[38;5;132;01m}\u001B[39;00m\u001B[38;5;124m ...\u001B[39m\u001B[38;5;124m\"\u001B[39m, extra\u001B[38;5;241m=\u001B[39m{\u001B[38;5;241m*\u001B[39m\u001B[38;5;241m*\u001B[39mEXTRA_CONSOLE_BLOCK})\n\u001B[1;32m---> 28\u001B[0m \u001B[38;5;28;01mreturn\u001B[39;00m registry\u001B[38;5;241m.\u001B[39mdataset_resolver(h, path, force_download\u001B[38;5;241m=\u001B[39mforce_download)\n",
      "File \u001B[1;32m~\\miniconda3\\envs\\ml-essay-pistachios\\Lib\\site-packages\\kagglehub\\registry.py:23\u001B[0m, in \u001B[0;36mMultiImplRegistry.__call__\u001B[1;34m(self, *args, **kwargs)\u001B[0m\n\u001B[0;32m     21\u001B[0m \u001B[38;5;28;01mfor\u001B[39;00m impl \u001B[38;5;129;01min\u001B[39;00m \u001B[38;5;28mreversed\u001B[39m(\u001B[38;5;28mself\u001B[39m\u001B[38;5;241m.\u001B[39m_impls):\n\u001B[0;32m     22\u001B[0m     \u001B[38;5;28;01mif\u001B[39;00m impl\u001B[38;5;241m.\u001B[39mis_supported(\u001B[38;5;241m*\u001B[39margs, \u001B[38;5;241m*\u001B[39m\u001B[38;5;241m*\u001B[39mkwargs):\n\u001B[1;32m---> 23\u001B[0m         \u001B[38;5;28;01mreturn\u001B[39;00m impl(\u001B[38;5;241m*\u001B[39margs, \u001B[38;5;241m*\u001B[39m\u001B[38;5;241m*\u001B[39mkwargs)\n\u001B[0;32m     24\u001B[0m     \u001B[38;5;28;01melse\u001B[39;00m:\n\u001B[0;32m     25\u001B[0m         fails\u001B[38;5;241m.\u001B[39mappend(\u001B[38;5;28mtype\u001B[39m(impl)\u001B[38;5;241m.\u001B[39m\u001B[38;5;18m__name__\u001B[39m)\n",
      "File \u001B[1;32m~\\miniconda3\\envs\\ml-essay-pistachios\\Lib\\site-packages\\kagglehub\\http_resolver.py:117\u001B[0m, in \u001B[0;36mDatasetHttpResolver.__call__\u001B[1;34m(self, h, path, force_download)\u001B[0m\n\u001B[0;32m    114\u001B[0m \u001B[38;5;28;01mif\u001B[39;00m path:\n\u001B[0;32m    115\u001B[0m     \u001B[38;5;66;03m# Downloading a single file.\u001B[39;00m\n\u001B[0;32m    116\u001B[0m     os\u001B[38;5;241m.\u001B[39mmakedirs(os\u001B[38;5;241m.\u001B[39mpath\u001B[38;5;241m.\u001B[39mdirname(out_path), exist_ok\u001B[38;5;241m=\u001B[39m\u001B[38;5;28;01mTrue\u001B[39;00m)\n\u001B[1;32m--> 117\u001B[0m     api_client\u001B[38;5;241m.\u001B[39mdownload_file(url_path \u001B[38;5;241m+\u001B[39m \u001B[38;5;124m\"\u001B[39m\u001B[38;5;124m&file_name=\u001B[39m\u001B[38;5;124m\"\u001B[39m \u001B[38;5;241m+\u001B[39m path, out_path, h)\n\u001B[0;32m    118\u001B[0m \u001B[38;5;28;01melse\u001B[39;00m:\n\u001B[0;32m    119\u001B[0m     \u001B[38;5;66;03m# TODO(b/345800027) Implement parallel download when < 25 files in databundle.\u001B[39;00m\n\u001B[0;32m    120\u001B[0m     \u001B[38;5;66;03m# Downloading the full archived bundle.\u001B[39;00m\n\u001B[0;32m    121\u001B[0m     archive_path \u001B[38;5;241m=\u001B[39m get_cached_archive_path(h)\n",
      "File \u001B[1;32m~\\miniconda3\\envs\\ml-essay-pistachios\\Lib\\site-packages\\kagglehub\\clients.py:157\u001B[0m, in \u001B[0;36mKaggleApiV1Client.download_file\u001B[1;34m(self, path, out_file, resource_handle, cached_path)\u001B[0m\n\u001B[0;32m    149\u001B[0m url \u001B[38;5;241m=\u001B[39m \u001B[38;5;28mself\u001B[39m\u001B[38;5;241m.\u001B[39m_build_url(path)\n\u001B[0;32m    150\u001B[0m \u001B[38;5;28;01mwith\u001B[39;00m requests\u001B[38;5;241m.\u001B[39mget(\n\u001B[0;32m    151\u001B[0m     url,\n\u001B[0;32m    152\u001B[0m     headers\u001B[38;5;241m=\u001B[39m{\u001B[38;5;124m\"\u001B[39m\u001B[38;5;124mUser-Agent\u001B[39m\u001B[38;5;124m\"\u001B[39m: get_user_agent()},\n\u001B[1;32m   (...)\u001B[0m\n\u001B[0;32m    155\u001B[0m     timeout\u001B[38;5;241m=\u001B[39m(DEFAULT_CONNECT_TIMEOUT, DEFAULT_READ_TIMEOUT),\n\u001B[0;32m    156\u001B[0m ) \u001B[38;5;28;01mas\u001B[39;00m response:\n\u001B[1;32m--> 157\u001B[0m     kaggle_api_raise_for_status(response, resource_handle)\n\u001B[0;32m    158\u001B[0m     total_size \u001B[38;5;241m=\u001B[39m \u001B[38;5;28mint\u001B[39m(response\u001B[38;5;241m.\u001B[39mheaders[\u001B[38;5;124m\"\u001B[39m\u001B[38;5;124mContent-Length\u001B[39m\u001B[38;5;124m\"\u001B[39m])\n\u001B[0;32m    159\u001B[0m     size_read \u001B[38;5;241m=\u001B[39m \u001B[38;5;241m0\u001B[39m\n",
      "File \u001B[1;32m~\\miniconda3\\envs\\ml-essay-pistachios\\Lib\\site-packages\\kagglehub\\exceptions.py:89\u001B[0m, in \u001B[0;36mkaggle_api_raise_for_status\u001B[1;34m(response, resource_handle)\u001B[0m\n\u001B[0;32m     81\u001B[0m     message \u001B[38;5;241m=\u001B[39m (\n\u001B[0;32m     82\u001B[0m         \u001B[38;5;124mf\u001B[39m\u001B[38;5;124m\"\u001B[39m\u001B[38;5;132;01m{\u001B[39;00mresponse\u001B[38;5;241m.\u001B[39mstatus_code\u001B[38;5;132;01m}\u001B[39;00m\u001B[38;5;124m Client Error.\u001B[39m\u001B[38;5;124m\"\u001B[39m\n\u001B[0;32m     83\u001B[0m         \u001B[38;5;124m\"\u001B[39m\u001B[38;5;130;01m\\n\u001B[39;00m\u001B[38;5;130;01m\\n\u001B[39;00m\u001B[38;5;124m\"\u001B[39m\n\u001B[0;32m     84\u001B[0m         \u001B[38;5;124mf\u001B[39m\u001B[38;5;124m\"\u001B[39m\u001B[38;5;124mResource not found at URL: \u001B[39m\u001B[38;5;132;01m{\u001B[39;00mresource_url\u001B[38;5;132;01m}\u001B[39;00m\u001B[38;5;124m\"\u001B[39m\n\u001B[0;32m     85\u001B[0m         \u001B[38;5;124m\"\u001B[39m\u001B[38;5;130;01m\\n\u001B[39;00m\u001B[38;5;124mPlease make sure you specified the correct resource identifiers.\u001B[39m\u001B[38;5;124m\"\u001B[39m\n\u001B[0;32m     86\u001B[0m     )\n\u001B[0;32m     88\u001B[0m \u001B[38;5;66;03m# Default handling\u001B[39;00m\n\u001B[1;32m---> 89\u001B[0m \u001B[38;5;28;01mraise\u001B[39;00m KaggleApiHTTPError(message, response\u001B[38;5;241m=\u001B[39mresponse) \u001B[38;5;28;01mfrom\u001B[39;00m \u001B[38;5;21;01me\u001B[39;00m\n",
      "\u001B[1;31mKaggleApiHTTPError\u001B[0m: 404 Client Error.\n\nResource not found at URL: https://www.kaggle.com/datasets/muratkokludataset/pistachio-dataset/versions/1\nPlease make sure you specified the correct resource identifiers."
     ]
    }
   ],
   "execution_count": 7
  }
 ],
 "metadata": {
  "kernelspec": {
   "display_name": "Python 3",
   "language": "python",
   "name": "python3"
  },
  "language_info": {
   "codemirror_mode": {
    "name": "ipython",
    "version": 2
   },
   "file_extension": ".py",
   "mimetype": "text/x-python",
   "name": "python",
   "nbconvert_exporter": "python",
   "pygments_lexer": "ipython2",
   "version": "2.7.6"
  }
 },
 "nbformat": 4,
 "nbformat_minor": 5
}

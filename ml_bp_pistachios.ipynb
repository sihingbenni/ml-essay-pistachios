{
 "cells": [
  {
   "metadata": {},
   "cell_type": "markdown",
   "source": "# Klassifikation von Pistazien\n",
   "id": "8a77807f92f26ee"
  },
  {
   "metadata": {},
   "cell_type": "markdown",
   "source": "## Installations skript",
   "id": "fe5b79cd24bc47c1"
  },
  {
   "metadata": {
    "ExecuteTime": {
     "end_time": "2024-12-02T14:09:06.860475Z",
     "start_time": "2024-12-02T14:09:06.856326Z"
    }
   },
   "cell_type": "code",
   "source": "\"\"\" Downloaden des Pistazien Datensatzes \"\"\"\n",
   "id": "fbc121e30a2defb3",
   "outputs": [
    {
     "name": "stdout",
     "output_type": "stream",
     "text": [
      "C:\\Users\\benni\\.cache\\kagglehub\\datasets\\muratkokludataset\\pistachio-dataset\\versions\\1\n"
     ]
    }
   ],
   "execution_count": 16
  },
  {
   "metadata": {},
   "cell_type": "markdown",
   "source": [
    "## Vorbereitung des Datensatzes\n",
    "Um mit dem Datensatz besser arbeiten zu können, werden folgende Schritte durchlaufen:\n",
    "- Es wird sich zuerst angeschaut wie der Datensatz aufgebaut ist. → [Explorative Datenanalyse](#Explorative-Datenanalyse)\n",
    "- Anschließend muss der Datensatz ggf. bereinigt/aufbereitet werden. → [Aufbereitung der Daten](#Aufbereitung-der-Daten)\n",
    "- Zuletzt wird der Datensatz noch in Trainings- und Testdaten aufgeteilt. → [Aufteilung der Daten in Trainings- und Testdaten](#Aufteilung-der-Daten-in-Trainings--und-Testdaten)\n",
    "\n",
    "Danach kann es mit der Klassifikation losgehen. → [Klassifikation](#Klassifikation)"
   ],
   "id": "9627a71fa609d459"
  },
  {
   "metadata": {},
   "cell_type": "markdown",
   "source": "### Explorative Datenanalyse",
   "id": "143d6fe576828dc2"
  },
  {
   "metadata": {},
   "cell_type": "code",
   "outputs": [],
   "execution_count": null,
   "source": "",
   "id": "32f56deed00e6079"
  },
  {
   "metadata": {},
   "cell_type": "markdown",
   "source": "### Aufbereitung der Daten",
   "id": "8c975a01c1d715eb"
  },
  {
   "metadata": {},
   "cell_type": "code",
   "outputs": [],
   "execution_count": null,
   "source": "",
   "id": "ee8ed154a5a5cbb2"
  },
  {
   "metadata": {},
   "cell_type": "markdown",
   "source": "### Aufteilung der Daten in Trainings- und Testdaten\n",
   "id": "226b55bbeb9653ce"
  },
  {
   "metadata": {},
   "cell_type": "code",
   "outputs": [],
   "execution_count": null,
   "source": "",
   "id": "cf2118a5b5828722"
  },
  {
   "metadata": {},
   "cell_type": "markdown",
   "source": "## Klassifikation",
   "id": "82b476c19a2c1e7c"
  }
 ],
 "metadata": {
  "kernelspec": {
   "display_name": "Python 3",
   "language": "python",
   "name": "python3"
  },
  "language_info": {
   "codemirror_mode": {
    "name": "ipython",
    "version": 2
   },
   "file_extension": ".py",
   "mimetype": "text/x-python",
   "name": "python",
   "nbconvert_exporter": "python",
   "pygments_lexer": "ipython2",
   "version": "2.7.6"
  }
 },
 "nbformat": 4,
 "nbformat_minor": 5
}

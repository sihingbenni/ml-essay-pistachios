{
 "cells": [
  {
   "metadata": {},
   "cell_type": "markdown",
   "source": "# Klassifikation von Pistazien",
   "id": "8a77807f92f26ee"
  },
  {
   "metadata": {
    "ExecuteTime": {
     "end_time": "2024-12-23T12:59:07.431851Z",
     "start_time": "2024-12-23T12:59:07.421176Z"
    }
   },
   "cell_type": "code",
   "source": [
    "\"\"\"Importieren der benötigten Bibliotheken\"\"\"\n",
    "import pandas as pd\n",
    "import arff\n",
    "import numpy as np\n",
    "import matplotlib.pyplot as plt"
   ],
   "id": "2c688586a4af8b64",
   "outputs": [],
   "execution_count": 67
  },
  {
   "metadata": {
    "ExecuteTime": {
     "end_time": "2024-12-23T12:59:07.537837Z",
     "start_time": "2024-12-23T12:59:07.521214Z"
    }
   },
   "cell_type": "code",
   "source": [
    "def check_requirements():\n",
    "    \"\"\"This function checks if all required files are present in the data folder.\"\"\"\n",
    "    import os\n",
    "\n",
    "    print('Überprüfe ob alle benötigten Dateien vorhanden sind...')\n",
    "\n",
    "    req_files = [\n",
    "        \"data/Pistachio_16_Features_Dataset_Citation_Request.txt\",\n",
    "        \"data/Pistachio_16_Features_Dataset.arff\",\n",
    "        \"data/Pistachio_16_Features_Dataset.xls\",\n",
    "    ]\n",
    "\n",
    "    # Sicherstellen, dass der Ordner \"data\" existiert\n",
    "    if not os.path.isdir('data'):\n",
    "        raise AssertionError('Der Ordner \"data\" existiert nicht.')\n",
    "\n",
    "    # Sicherstellen, dass alle benötigten Dateien im Ordner \"data\" existieren\n",
    "    for file in req_files:\n",
    "        if not os.path.isfile(file):\n",
    "            raise AssertionError(f'Die Datei \"{file}\" existiert nicht.')\n",
    "\n",
    "    print('... Alle benötigten Dateien sind vorhanden.')\n",
    "    print('Viel Spaß!')\n",
    "    pass"
   ],
   "id": "5f107657d3a78b9c",
   "outputs": [],
   "execution_count": 68
  },
  {
   "metadata": {
    "ExecuteTime": {
     "end_time": "2024-12-23T12:59:07.548141Z",
     "start_time": "2024-12-23T12:59:07.537837Z"
    }
   },
   "cell_type": "code",
   "source": "check_requirements()",
   "id": "70dcc707edf87ce4",
   "outputs": [
    {
     "name": "stdout",
     "output_type": "stream",
     "text": [
      "Überprüfe ob alle benötigten Dateien vorhanden sind...\n",
      "... Alle benötigten Dateien sind vorhanden.\n",
      "Viel Spaß!\n"
     ]
    }
   ],
   "execution_count": 69
  },
  {
   "metadata": {},
   "cell_type": "markdown",
   "source": [
    "## Einführung in den Datensatz\n",
    "Es wird ein Datensatz benutzt welcher in dem [Progress of Nutrition Vol. 23 No. 2 (2021)](https://doi.org/10.23751/pn.v23i2.9686) veröffentlicht wurde.<br>\n",
    "Der Datensatz wurde in dem Paper [Classification of Pistachio Species Using Improved k-NN Classifier](https://www.mattioli1885journals.com/index.php/progressinnutrition/article/view/9686/9178) erstellt.\n",
    "\n",
    "In dem Datensatz gibt es sowohl eine ausführung mit 16 Features als auch eine mit 28 Features. \n",
    "- <b>In diesem Projekt wird die Version mit 16 Features verwendet.</b>\n",
    "    <br>(Die restlichen 12 Features sind \"Farben Merkmale\" und werden in diesem Projekt nicht verwendet.)\n",
    "\n",
    "- <b>Morphological Features (12 Features):</b>\n",
    "    1. Area\n",
    "    2. Perimeter\n",
    "    3. Major_Axis\n",
    "    4. Minor_Axis\n",
    "    5. Eccentricity\n",
    "    6. Eqdiasq\n",
    "    7. Solidity\n",
    "    8. Convex_Area\n",
    "    9. Extent\n",
    "    10. Aspect_Ratio\n",
    "    11. Roundness\n",
    "    12. Compactness\n",
    "- <b>Shape Features (4 Features)</b>\n",
    "    13. Shapefactor_1\n",
    "    14. Shapefactor_2\n",
    "    15. Shapefactor_3\n",
    "    16. Shapefactor_4\n"
   ],
   "id": "fe5b79cd24bc47c1"
  },
  {
   "metadata": {},
   "cell_type": "markdown",
   "source": [
    "## Vorbereitung des Datensatzes\n",
    "Um mit dem Datensatz besser arbeiten zu können, werden folgende Schritte durchlaufen:\n",
    "- Es wird sich zuerst angeschaut wie der Datensatz aufgebaut ist. → [Explorative Datenanalyse](#Explorative-Datenanalyse)\n",
    "- Anschließend muss der Datensatz ggf. bereinigt/aufbereitet werden. → [Aufbereitung der Daten](#Aufbereitung-der-Daten)\n",
    "- Zuletzt wird der Datensatz noch in Trainings- und Testdaten aufgeteilt. → [Aufteilung der Daten in Trainings- und Testdaten](#Aufteilung-der-Daten-in-Trainings--und-Testdaten)\n",
    "\n",
    "Danach kann es mit der Klassifikation losgehen. → [Klassifikation](#Klassifikation)"
   ],
   "id": "9627a71fa609d459"
  },
  {
   "metadata": {
    "ExecuteTime": {
     "end_time": "2024-12-23T12:59:07.647339Z",
     "start_time": "2024-12-23T12:59:07.549868Z"
    }
   },
   "cell_type": "code",
   "source": [
    "# Laden der Daten aus dem Excel-File in ein Pandas DataFrame\n",
    "file_path = 'data/Pistachio_16_Features_Dataset.xls'\n",
    "data_frame = pd.read_excel(file_path)\n",
    "\n",
    "rows = data_frame.shape[0]\n",
    "columns = data_frame.shape[1] - 1  # Klassifikationsspalte wird nicht mitgezählt\n"
   ],
   "id": "fbc121e30a2defb3",
   "outputs": [],
   "execution_count": 70
  },
  {
   "metadata": {
    "ExecuteTime": {
     "end_time": "2024-12-23T13:29:29.534074Z",
     "start_time": "2024-12-23T13:29:29.521255Z"
    }
   },
   "cell_type": "code",
   "source": [
    "def print_descriptions():\n",
    "    \"\"\"Bei Bedarf kann diese Funktion aufgerufen werden, um die Beschreibungen der Attribute auzugeben.\"\"\"\n",
    "    \n",
    "    # Anzeigen der ersten 5 Zeilen des Datensatzes, darunter die Namen der Attribute und die ersten 4 Datensätze\n",
    "    print(data_frame.head(), '\\n')\n",
    "    print(f\"Anzahl der Attribute: {columns}\")\n",
    "    print(f\"Anzahl der Datensätze: {rows}\")\n",
    "    \n",
    "    print('\\n', data_frame.Class.value_counts(), '\\n')\n",
    "    print(data_frame.AREA.describe(), '\\n')\n",
    "    print(data_frame.PERIMETER.describe(), '\\n')\n",
    "    print(data_frame.MAJOR_AXIS.describe(), '\\n')\n",
    "    print(data_frame.MINOR_AXIS.describe(), '\\n')\n",
    "    print(data_frame.ECCENTRICITY.describe(), '\\n')\n",
    "    print(data_frame.EQDIASQ.describe(), '\\n')\n",
    "    print(data_frame.SOLIDITY.describe(), '\\n')\n",
    "    print(data_frame.CONVEX_AREA.describe(), '\\n')\n",
    "    print(data_frame.EXTENT.describe(), '\\n')\n",
    "    print(data_frame.ASPECT_RATIO.describe(), '\\n')\n",
    "    print(data_frame.ROUNDNESS.describe(), '\\n')\n",
    "    print(data_frame.COMPACTNESS.describe(), '\\n')\n",
    "    "
   ],
   "id": "4a13409928e7bbe8",
   "outputs": [],
   "execution_count": 86
  },
  {
   "metadata": {
    "ExecuteTime": {
     "end_time": "2024-12-23T13:29:30.535583Z",
     "start_time": "2024-12-23T13:29:30.499284Z"
    }
   },
   "cell_type": "code",
   "source": "print_descriptions()",
   "id": "463ecf29b2bb9c92",
   "outputs": [
    {
     "name": "stdout",
     "output_type": "stream",
     "text": [
      "    AREA  PERIMETER  MAJOR_AXIS  MINOR_AXIS  ECCENTRICITY   EQDIASQ  SOLIDITY  \\\n",
      "0  63391   1568.405    390.3396    236.7461        0.7951  284.0984    0.8665   \n",
      "1  68358   1942.187    410.8594    234.7525        0.8207  295.0188    0.8765   \n",
      "2  73589   1246.538    452.3630    220.5547        0.8731  306.0987    0.9172   \n",
      "3  71106   1445.261    429.5291    216.0765        0.8643  300.8903    0.9589   \n",
      "4  80087   1251.524    469.3783    220.9344        0.8823  319.3273    0.9657   \n",
      "\n",
      "   CONVEX_AREA  EXTENT  ASPECT_RATIO  ROUNDNESS  COMPACTNESS  SHAPEFACTOR_1  \\\n",
      "0        73160  0.6394        1.6488     0.3238       0.7278         0.0062   \n",
      "1        77991  0.6772        1.7502     0.2277       0.7181         0.0060   \n",
      "2        80234  0.7127        2.0510     0.5951       0.6767         0.0061   \n",
      "3        74153  0.7028        1.9879     0.4278       0.7005         0.0060   \n",
      "4        82929  0.7459        2.1245     0.6425       0.6803         0.0059   \n",
      "\n",
      "   SHAPEFACTOR_2  SHAPEFACTOR_3  SHAPEFACTOR_4              Class  \n",
      "0         0.0037         0.5297         0.8734  Kirmizi_Pistachio  \n",
      "1         0.0034         0.5156         0.9024  Kirmizi_Pistachio  \n",
      "2         0.0030         0.4579         0.9391  Kirmizi_Pistachio  \n",
      "3         0.0030         0.4907         0.9755  Kirmizi_Pistachio  \n",
      "4         0.0028         0.4628         0.9833  Kirmizi_Pistachio   \n",
      "\n",
      "Anzahl der Attribute: 16\n",
      "Anzahl der Datensätze: 2148\n",
      "\n",
      " Class\n",
      "Kirmizi_Pistachio    1232\n",
      "Siit_Pistachio        916\n",
      "Name: count, dtype: int64 \n",
      "\n",
      "count      2148.000000\n",
      "mean      79950.655493\n",
      "std       13121.737799\n",
      "min       29808.000000\n",
      "25%       71936.750000\n",
      "50%       79905.500000\n",
      "75%       89030.500000\n",
      "max      124008.000000\n",
      "Name: AREA, dtype: float64 \n",
      "\n",
      "count    2148.000000\n",
      "mean     1425.971751\n",
      "std       375.565503\n",
      "min       858.363000\n",
      "25%      1170.996250\n",
      "50%      1262.785500\n",
      "75%      1607.906250\n",
      "max      2755.049100\n",
      "Name: PERIMETER, dtype: float64 \n",
      "\n",
      "count    2148.000000\n",
      "mean      446.248968\n",
      "std        32.445304\n",
      "min       320.344500\n",
      "25%       426.508750\n",
      "50%       448.574750\n",
      "75%       468.509400\n",
      "max       541.966100\n",
      "Name: MAJOR_AXIS, dtype: float64 \n",
      "\n",
      "count    2148.000000\n",
      "mean      238.311842\n",
      "std        30.310695\n",
      "min       133.509600\n",
      "25%       217.875825\n",
      "50%       236.416350\n",
      "75%       257.760150\n",
      "max       383.046100\n",
      "Name: MINOR_AXIS, dtype: float64 \n",
      "\n",
      "count    2148.000000\n",
      "mean        0.840219\n",
      "std         0.048759\n",
      "min         0.504900\n",
      "25%         0.817500\n",
      "50%         0.849650\n",
      "75%         0.875200\n",
      "max         0.946000\n",
      "Name: ECCENTRICITY, dtype: float64 \n",
      "\n",
      "count    2148.000000\n",
      "mean      317.919173\n",
      "std        26.908600\n",
      "min       194.814600\n",
      "25%       302.642850\n",
      "50%       318.965300\n",
      "75%       336.685525\n",
      "max       397.356100\n",
      "Name: EQDIASQ, dtype: float64 \n",
      "\n",
      "count    2148.000000\n",
      "mean        0.940093\n",
      "std         0.050452\n",
      "min         0.588000\n",
      "25%         0.919850\n",
      "50%         0.954150\n",
      "75%         0.976925\n",
      "max         0.995100\n",
      "Name: SOLIDITY, dtype: float64 \n",
      "\n",
      "count      2148.000000\n",
      "mean      85015.839851\n",
      "std       13154.919327\n",
      "min       37935.000000\n",
      "25%       76467.000000\n",
      "50%       85075.500000\n",
      "75%       93893.500000\n",
      "max      132478.000000\n",
      "Name: CONVEX_AREA, dtype: float64 \n",
      "\n",
      "count    2148.000000\n",
      "mean        0.716067\n",
      "std         0.052532\n",
      "min         0.427200\n",
      "25%         0.687000\n",
      "50%         0.726500\n",
      "75%         0.753600\n",
      "max         0.820400\n",
      "Name: EXTENT, dtype: float64 \n",
      "\n",
      "count    2148.000000\n",
      "mean        1.898154\n",
      "std         0.240100\n",
      "min         1.158500\n",
      "25%         1.736375\n",
      "50%         1.896250\n",
      "75%         2.067025\n",
      "max         3.085800\n",
      "Name: ASPECT_RATIO, dtype: float64 \n",
      "\n",
      "count    2148.000000\n",
      "mean        0.569172\n",
      "std         0.212760\n",
      "min         0.062800\n",
      "25%         0.371250\n",
      "50%         0.643400\n",
      "75%         0.744125\n",
      "max         0.933600\n",
      "Name: ROUNDNESS, dtype: float64 \n",
      "\n",
      "count    2148.000000\n",
      "mean        0.713077\n",
      "std         0.044547\n",
      "min         0.476000\n",
      "25%         0.681550\n",
      "50%         0.710700\n",
      "75%         0.741650\n",
      "max         0.877900\n",
      "Name: COMPACTNESS, dtype: float64 \n",
      "\n"
     ]
    }
   ],
   "execution_count": 87
  },
  {
   "metadata": {},
   "cell_type": "markdown",
   "source": [
    "### Explorative Datenanalyse\n",
    "Die erste Frage, die sich stellt, lautet: <b>Wie ist der Datensatz aufgebaut?</b>\n",
    "\n",
    "| Frage                                           | Ermittlung                               |                                               Antwort |\n",
    "|:------------------------------------------------|------------------------------------------|------------------------------------------------------:|\n",
    "| Wie viele Attribute gibt es?                    | `print(columns)`                         |                                                    16 |\n",
    "| Wie viele Datensätze gibt es?                   | `print(rows)`                            |                                                  2148 |\n",
    "| Wie viele Klassen gibt es?                      | `print(data_frame.Class.value_counts())` | <table><tr><th>Kirmizi</th><th>Siit</th></tr></table> |\n",
    "| Wie viele Datensätze sind pro Klasse vorhanden? | `print(data_frame.Class.value_counts())` |     <table><tr><td>1232</td><td>916</td></tr></table> |\n",
    "\n",
    "#### Wie sehen die Attribute insgesamt aus?\n",
    "\n",
    "| Attribut     | Beschreibung                                                                                                                                                                  | Code                                 | Datentyp |          Min |           Max |         Mean |          Std |\n",
    "|:-------------|:------------------------------------------------------------------------------------------------------------------------------------------------------------------------------|:-------------------------------------|:---------|-------------:|--------------:|-------------:|-------------:|\n",
    "| AREA         | Fläche                                                                                                                                                                        | `data_frame.AREA.describe()`         | float64  | 29808.000000 | 124008.000000 | 79950.655493 | 13121.737799 | \n",
    "| PERIMETER    | Umfang                                                                                                                                                                        | `data_frame.PERIMETER.describe()`    | float64  |   858.363000 |   2755.049100 |  1425.971751 |   375.565503 |\n",
    "| MAJOR_AXIS   | Länge der großen Achse                                                                                                                                                        | `data_frame.MAJOR_AXIS.describe()`   | float64  |   320.344500 |    541.966100 |   446.248968 |   541.966100 |\n",
    "| MINOR_AXIS   | Länge der kleinen Achse                                                                                                                                                       | `data_frame.MINOR_AXIS.describe()`   | float64  |   133.509600 |    383.046100 |   238.311842 |    30.310695 |\n",
    "| ECCENTRICITY | Exzentrizität<br>Ist das Maß für die Abweichung<br> der Form von einem Kreis.<br>Normiert auf den Zahlenbereich<br>0 < e < 1                                                  | `data_frame.ECCENTRICITY.describe()` | float64  |     0.504900 |      0.946000 |     0.840219 |     0.048759 |\n",
    "| EQDIASQ      | Äquivalenter Durchmesser quadriert<br>Ist ein Maß, mit dem nicht-kreisförmige<br> Objekte hinsichtlich der Fläche<br> mit einem Kreis verglichen werden.                      | `data_frame.EQDIASQ.describe()`      | float64  |   194.814600 |    397.356100 |   317.919173 |    26.908600 |\n",
    "| SOLIDITY     | Solidität<br>Ist ein Maß, das verwendet wird,<br> um die Dichteverteilung oder die<br> Kompaktheit eines Objekts zu beschreiben.<br> Normiert auf den Zahlenbereich 0 < s < 1 | `data_frame.SOLIDITY.describe()`     | float64  |     0.588000 |      0.995100 |     0.940093 |     0.050452 |\n",
    "| CONVEX_AREA  | Konvexe Fläche<br>Anzahl der Pixel im kleinsten<br/> konvexen Polygon, das die Fläche<br/> eines Bohnenkorns umfassen kann.                                                   | `data_frame.CONVEX_AREA.describe()`  | float64  | 37935.000000 | 132478.000000 | 85015.839851 | 13154.919327 |\n",
    "| EXTENT       | Ausdehnung<br>Das Verhältnis der Fläche<br/>des Objekts zur Fläche<br/> des umschließenden Rechtecks.                                                                         | `data_frame.EXTENT.describe()`       | float64  |     0.427200 |      0.820400 |     0.716067 |     0.052532 | \n",
    "| ASPECT_RATIO | Seitenverhältnis<br>Verhältnis der Länge<br/>der großen Achse zur Länge<br/>der kleinen Achse.                                                                                | `data_frame.ASPECT_RATIO.describe()` | float64  |     1.158500 |      3.085800 |     1.898154 |     0.240100 |\n",
    "| ROUNDNESS    | Rundheit<br>Ist das Maß, das beschreibt,<br/>wie sehr die Form eines Objekts<br/> einem perfekten Kreis ähnelt.                                                               | `data_frame.ROUNDNESS.describe()`    | float64  |     0.062800 |      0.933600 |     0.569172 |     0.212760 |\n",
    "| COMPACTNESS  | Kompaktheit<br>                                                                     | `data_frame.COMPACTNESS.describe()`  | float64  |     0.476000 |      0.877900 |     0.713077 |     0.044547 |\n",
    "\n",
    "count    2148.000000\n",
    "mean        0.713077\n",
    "std         0.044547\n",
    "min         0.476000\n",
    "25%         0.681550\n",
    "50%         0.710700\n",
    "75%         0.741650\n",
    "max         0.877900\n",
    "Name: COMPACTNESS, dtype: float64 \n",
    "\n",
    "\n",
    "#### Wie sehen die Daten pro Klasse in einem Plot aus?"
   ],
   "id": "143d6fe576828dc2"
  },
  {
   "metadata": {
    "ExecuteTime": {
     "end_time": "2024-12-23T12:59:07.699379Z",
     "start_time": "2024-12-23T12:59:07.692170Z"
    }
   },
   "cell_type": "code",
   "source": "",
   "id": "32f56deed00e6079",
   "outputs": [],
   "execution_count": 72
  },
  {
   "metadata": {},
   "cell_type": "markdown",
   "source": "### Aufbereitung der Daten",
   "id": "8c975a01c1d715eb"
  },
  {
   "metadata": {
    "ExecuteTime": {
     "end_time": "2024-12-23T12:59:07.745267Z",
     "start_time": "2024-12-23T12:59:07.741853Z"
    }
   },
   "cell_type": "code",
   "source": "",
   "id": "ee8ed154a5a5cbb2",
   "outputs": [],
   "execution_count": 72
  },
  {
   "metadata": {},
   "cell_type": "markdown",
   "source": "### Aufteilung der Daten in Trainings- und Testdaten\n",
   "id": "226b55bbeb9653ce"
  },
  {
   "metadata": {
    "ExecuteTime": {
     "end_time": "2024-12-23T12:59:07.786485Z",
     "start_time": "2024-12-23T12:59:07.779188Z"
    }
   },
   "cell_type": "code",
   "source": "",
   "id": "cf2118a5b5828722",
   "outputs": [],
   "execution_count": 72
  },
  {
   "metadata": {},
   "cell_type": "markdown",
   "source": "## Klassifikation",
   "id": "82b476c19a2c1e7c"
  },
  {
   "metadata": {
    "ExecuteTime": {
     "end_time": "2024-12-23T12:59:07.880707Z",
     "start_time": "2024-12-23T12:59:07.875619Z"
    }
   },
   "cell_type": "code",
   "source": "",
   "id": "389dcbb3c8a53c67",
   "outputs": [],
   "execution_count": 72
  },
  {
   "metadata": {},
   "cell_type": "markdown",
   "source": "",
   "id": "2abf60b546ae6fe"
  },
  {
   "metadata": {
    "ExecuteTime": {
     "end_time": "2024-12-23T12:59:07.961549Z",
     "start_time": "2024-12-23T12:59:07.952672Z"
    }
   },
   "cell_type": "code",
   "source": "",
   "id": "6faa0793f9457c77",
   "outputs": [],
   "execution_count": 72
  },
  {
   "metadata": {},
   "cell_type": "markdown",
   "source": "### Künstliches Neuronales Netz (KNN)",
   "id": "15b9820f7d027a3c"
  }
 ],
 "metadata": {
  "kernelspec": {
   "display_name": "Python 3",
   "language": "python",
   "name": "python3"
  },
  "language_info": {
   "codemirror_mode": {
    "name": "ipython",
    "version": 2
   },
   "file_extension": ".py",
   "mimetype": "text/x-python",
   "name": "python",
   "nbconvert_exporter": "python",
   "pygments_lexer": "ipython2",
   "version": "2.7.6"
  }
 },
 "nbformat": 4,
 "nbformat_minor": 5
}
